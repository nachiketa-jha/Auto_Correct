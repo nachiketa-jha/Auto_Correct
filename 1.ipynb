{
 "cells": [
  {
   "cell_type": "code",
   "execution_count": 1,
   "metadata": {},
   "outputs": [],
   "source": [
    "import re\n",
    "w=[]\n",
    "\n",
    "with open('final.txt', 'r', encoding='utf8') as f:\n",
    "    file_name = f.read()\n",
    "    file_name = file_name.lower()\n",
    "    w = re.findall('\\w+', file_name)\n",
    "\n",
    "main_set = set(w)"
   ]
  },
  {
   "cell_type": "code",
   "execution_count": 2,
   "metadata": {},
   "outputs": [],
   "source": [
    "def coutning_words(words):\n",
    "    word_count = {}\n",
    "    for word in words:\n",
    "        if word in word_count:\n",
    "            word_count[word]+=1\n",
    "        else:\n",
    "            word_count[word] =1\n",
    "    return word_count"
   ]
  },
  {
   "cell_type": "code",
   "execution_count": 8,
   "metadata": {},
   "outputs": [],
   "source": [
    "def prob_cal(word_count_dict):\n",
    "    probs = {}\n",
    "    m = sum(word_count_dict.values())\n",
    "    for key in word_count_dict.keys():\n",
    "        probs[key] = word_count_dict[key] / m\n",
    "    return probs"
   ]
  },
  {
   "cell_type": "markdown",
   "metadata": {},
   "source": [
    "Lemmatization\n",
    "Deletion of letter\n",
    "Switching Letter\n",
    "Replace Letter\n",
    "Insert new Letter"
   ]
  },
  {
   "cell_type": "code",
   "execution_count": 12,
   "metadata": {},
   "outputs": [],
   "source": [
    "from spacy import lexeme\n",
    "from nltk.stem import WordNetLemmatizer\n",
    "\n",
    "def LemmWord(word):\n",
    "    return list(lexeme(wd) for wd in word.split())[0]"
   ]
  },
  {
   "cell_type": "code",
   "execution_count": null,
   "metadata": {},
   "outputs": [],
   "source": [
    "def delete_letter(word):\n",
    "    delete_list = []\n",
    "    split_list =[]\n",
    "    for i in range(len(word)):\n",
    "        split_list.append((word[0:i], word[i:]))\n",
    "\n",
    "    for a,b in split_list:\n",
    "        delete_list.append(a +b[1:])\n",
    "    \n",
    "    return delete_list"
   ]
  },
  {
   "cell_type": "code",
   "execution_count": null,
   "metadata": {},
   "outputs": [],
   "source": [
    "def switch(word):\n",
    "    split_list = []\n",
    "    switch_list = []\n",
    "    for i in range(len(word)):\n",
    "        split_list.append((word[0:i], word[i:0]))\n",
    "    \n",
    "    switch_list = [a + b[1] + b[0] + b[2:] for a, b in split_list if len(b)>=2]\n",
    "    return switch_list"
   ]
  },
  {
   "cell_type": "code",
   "execution_count": 1,
   "metadata": {},
   "outputs": [],
   "source": [
    "def replace(word):\n",
    "    split_list = []\n",
    "    replace_list = []\n",
    "    for i in range(len(word)):\n",
    "        split_list.append((word[0:i], word[i:]))\n",
    "\n",
    "    alphs = 'abcdefghijklmnopqrstuvwxyz'\n",
    "    replace_list = [a + c + b[1:] if len(b) > c else '' for a, b in split_list if b for c in alphs]\n",
    "\n",
    "    return replace_list"
   ]
  },
  {
   "cell_type": "code",
   "execution_count": 2,
   "metadata": {},
   "outputs": [],
   "source": [
    "def insert(word):\n",
    "    split_list = []\n",
    "    insert_list = []\n",
    "    for i in range(len(word)):\n",
    "        split_list.append((word[0:i], word[i:]))\n",
    "\n",
    "    alphs = 'abcdefghijklmnopqrstuvwxyz'\n",
    "    insert_list = [a + c + b for a, b in split_list for c in alphs]\n",
    "    return insert_list\n"
   ]
  },
  {
   "cell_type": "code",
   "execution_count": null,
   "metadata": {},
   "outputs": [],
   "source": []
  }
 ],
 "metadata": {
  "kernelspec": {
   "display_name": "Python 3",
   "language": "python",
   "name": "python3"
  },
  "language_info": {
   "codemirror_mode": {
    "name": "ipython",
    "version": 3
   },
   "file_extension": ".py",
   "mimetype": "text/x-python",
   "name": "python",
   "nbconvert_exporter": "python",
   "pygments_lexer": "ipython3",
   "version": "3.10.12"
  }
 },
 "nbformat": 4,
 "nbformat_minor": 2
}
